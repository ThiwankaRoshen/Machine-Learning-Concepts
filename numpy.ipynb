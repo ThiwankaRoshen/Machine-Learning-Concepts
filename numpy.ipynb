{
  "nbformat": 4,
  "nbformat_minor": 0,
  "metadata": {
    "colab": {
      "provenance": [],
      "authorship_tag": "ABX9TyMzU0rB5FMINBalvKgXYz1j",
      "include_colab_link": true
    },
    "kernelspec": {
      "name": "python3",
      "display_name": "Python 3"
    },
    "language_info": {
      "name": "python"
    }
  },
  "cells": [
    {
      "cell_type": "markdown",
      "metadata": {
        "id": "view-in-github",
        "colab_type": "text"
      },
      "source": [
        "<a href=\"https://colab.research.google.com/github/ThiwankaRoshen/Machine-Learning-Concepts/blob/main/numpy.ipynb\" target=\"_parent\"><img src=\"https://colab.research.google.com/assets/colab-badge.svg\" alt=\"Open In Colab\"/></a>"
      ]
    },
    {
      "cell_type": "code",
      "execution_count": null,
      "metadata": {
        "id": "InETgfE6Brjw"
      },
      "outputs": [],
      "source": [
        "import numpy as np\n",
        "print(np.__version__)\n",
        "\n",
        "arr1 = np.array([1, 2, 3, 4, 5, 7])\n",
        "print(arr1, type(arr1), arr1.ndim, arr1.dtype)\n",
        "arr1 = np.array(arr1, dtype='S')\n",
        "print(arr1, type(arr1), arr1.ndim, arr1.dtype)\n",
        "print(arr1[0],arr1[3])\n",
        "print(arr1[-4:-1:2])\n",
        "newarr = arr1.reshape(3, 1, 2)\n",
        "print(newarr, newarr.base)\n",
        "newarr = arr1.reshape(2, 3, -1)\n",
        "print(newarr, newarr.base)\n",
        "newarr2 = newarr.reshape(-1)\n",
        "print(newarr2, newarr2.base)\n",
        "\n",
        "\n",
        "arr2 = np.array(('1', '2', '3', '4', '5'))\n",
        "print(arr2, type(arr2), arr2.ndim, arr2.dtype)\n",
        "newarr = arr2.astype('i')\n",
        "print(newarr, type(newarr), newarr.ndim, newarr.dtype)\n",
        "arr = np.array([1, 2, 3, 4, 5])\n",
        "x = arr.copy()\n",
        "y = arr.view()\n",
        "arr[0] = 42\n",
        "print(arr, x, x.base, y, y.base)\n",
        "\n",
        "arr3 = np.array({1, 2, 3, 4, 5})\n",
        "print(arr3, type(arr3), arr3.ndim, arr3.dtype)\n",
        "\n",
        "arr4 = np.array({1:\"a\", 2:\"b\"})\n",
        "print(arr4, type(arr4), arr4.ndim, arr4.dtype)\n",
        "\n",
        "a = np.array(42)\n",
        "b = np.array([1, 2, 3, 4, 5])\n",
        "c = np.array([[1, 2, 3], [4, 5, 6]])\n",
        "print(c[0][1],c[0,1],c[1])\n",
        "print(c[0:2, 2], c[0:2,0:2])\n",
        "print(c.shape)\n",
        "\n",
        "d = np.array([[[1, 2, 3], [4, 5, 6]], [[1, 2, 3], [4, 5, 6]]])\n",
        "print(d.shape)\n",
        "for x in np.nditer(d):\n",
        "  print(x)\n",
        "for x in np.nditer(d, flags=['buffered'], op_dtypes=['S']):\n",
        "  print(x)\n",
        "for idx, x in np.ndenumerate(d):\n",
        "  print(idx, x)\n",
        "\n",
        "print(a.ndim)\n",
        "print(b.ndim)\n",
        "print(c.ndim)\n",
        "print(d.ndim)\n",
        "\n",
        "arr = np.array([1, 2, 3, 4], ndmin=5)\n",
        "print(arr)\n",
        "print('number of dimensions :', arr.ndim)\n",
        "\n",
        "\n",
        "\n",
        "arr1 = np.array([1, 2, 3])\n",
        "arr2 = np.array([4, 5, 6])\n",
        "arr = np.concatenate((arr1, arr2))\n",
        "print(arr)\n",
        "\n",
        "arr1 = np.array([1, 2, 3])\n",
        "arr2 = np.array([4, 5, 6])\n",
        "arr = np.stack((arr1, arr2))\n",
        "print(arr)\n",
        "\n",
        "arr1 = np.array([[1, 2], [3, 4]])\n",
        "arr2 = np.array([[5, 6], [7, 8]])\n",
        "arr = np.concatenate((arr1, arr2))\n",
        "print(arr)\n",
        "arr = np.concatenate((arr1, arr2),axis=1)\n",
        "print(arr)\n",
        "\n",
        "arr1 = np.array([1, 2, 3])\n",
        "arr2 = np.array([4, 5, 6])\n",
        "arr = np.stack((arr1, arr2), axis=1)\n",
        "print(arr)"
      ]
    }
  ]
}