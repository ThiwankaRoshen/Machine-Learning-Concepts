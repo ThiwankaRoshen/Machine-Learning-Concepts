{
  "nbformat": 4,
  "nbformat_minor": 0,
  "metadata": {
    "colab": {
      "provenance": []
    },
    "kernelspec": {
      "name": "python3",
      "display_name": "Python 3"
    },
    "language_info": {
      "name": "python"
    }
  },
  "cells": [
    {
      "cell_type": "code",
      "execution_count": 3,
      "metadata": {
        "id": "4d191pcsnP7A"
      },
      "outputs": [],
      "source": [
        "from sklearn.ensemble import RandomForestRegressor\n",
        "from sklearn.metrics import mean_absolute_error\n",
        "\n",
        "import pandas as pd"
      ]
    },
    {
      "cell_type": "code",
      "source": [
        "housing_data = pd.read_csv(\"/content/drive/MyDrive/train (1).csv\")\n",
        "X = housing_data[['LotArea', 'YearBuilt', '1stFlrSF', '2ndFlrSF', 'FullBath', 'BedroomAbvGr', 'TotRmsAbvGrd']]\n",
        "y = housing_data.SalePrice\n",
        "\n",
        "from sklearn.model_selection import train_test_split\n",
        "\n",
        "train_X, val_X, train_y, val_y = train_test_split(X, y, random_state = 1)"
      ],
      "metadata": {
        "id": "Pf9tKP98oCky"
      },
      "execution_count": 4,
      "outputs": []
    },
    {
      "cell_type": "code",
      "source": [
        "from sklearn.tree import DecisionTreeRegressor\n",
        "DTmodel = DecisionTreeRegressor()\n",
        "DTmodel.fit(train_X, train_y)\n",
        "melb_preds = DTmodel.predict(val_X)\n",
        "print(mean_absolute_error(val_y, melb_preds))\n",
        "\n",
        "def get_mae(max_leaf_nodes, train_X, val_X, train_y, val_y):\n",
        "    model = DecisionTreeRegressor(max_leaf_nodes=max_leaf_nodes, random_state=0)\n",
        "    model.fit(train_X, train_y)\n",
        "    preds_val = model.predict(val_X)\n",
        "    mae = mean_absolute_error(val_y, preds_val)\n",
        "    return(mae)\n",
        "\n",
        "for max_leaf_nodes in [5, 25,40,50,55,60,65, 70,80 ,150, 1500]:\n",
        "  print(max_leaf_nodes, get_mae(max_leaf_nodes, train_X, val_X, train_y, val_y))\n",
        "#overfitting vs underfitting"
      ],
      "metadata": {
        "colab": {
          "base_uri": "https://localhost:8080/"
        },
        "id": "-hgqwyzAokkO",
        "outputId": "455324d6-baab-45a0-9ad4-92412a7f65b0"
      },
      "execution_count": 16,
      "outputs": [
        {
          "output_type": "stream",
          "name": "stdout",
          "text": [
            "29231.04109589041\n",
            "5 35044.51299744237\n",
            "25 29016.41319191076\n",
            "40 28106.18249209847\n",
            "50 27405.930473214907\n",
            "55 27662.52507381978\n",
            "60 27110.899339368298\n",
            "65 27044.389659920456\n",
            "70 26763.340028993345\n",
            "80 27389.89243288238\n",
            "150 27417.4149615415\n",
            "1500 30162.438356164384\n"
          ]
        }
      ]
    },
    {
      "cell_type": "code",
      "source": [
        "\n",
        "forest_model = RandomForestRegressor(random_state=1)\n",
        "forest_model.fit(train_X, train_y)\n",
        "melb_preds = forest_model.predict(val_X)\n",
        "print(mean_absolute_error(val_y, melb_preds))\n",
        "\n",
        "def get_mae(max_leaf_nodes, train_X, val_X, train_y, val_y):\n",
        "    model = RandomForestRegressor(max_leaf_nodes=max_leaf_nodes, random_state=1)\n",
        "    model.fit(train_X, train_y)\n",
        "    preds_val = model.predict(val_X)\n",
        "    mae = mean_absolute_error(val_y, preds_val)\n",
        "    return(mae)\n",
        "\n",
        "for max_leaf_nodes in [5, 25,40,50,55,60,65, 70,80 ,150, 15000]:\n",
        "  print(max_leaf_nodes, get_mae(max_leaf_nodes, train_X, val_X, train_y, val_y))\n",
        "#overfitting vs underfitting"
      ],
      "metadata": {
        "colab": {
          "base_uri": "https://localhost:8080/"
        },
        "id": "1jmGcscIn-dg",
        "outputId": "5da7e6d6-2263-406e-c090-aa71375043be"
      },
      "execution_count": 13,
      "outputs": [
        {
          "output_type": "stream",
          "name": "stdout",
          "text": [
            "21857.15912981083\n",
            "5 31329.583565320158\n",
            "25 24343.543880863017\n",
            "40 23092.99275232179\n",
            "50 22737.779907759992\n",
            "55 22558.66986886467\n",
            "60 22469.802416327304\n",
            "65 22361.340139598164\n",
            "70 22266.5974282637\n",
            "80 22192.304033668246\n",
            "150 21842.66591815065\n",
            "15000 21890.56714155251\n"
          ]
        }
      ]
    },
    {
      "cell_type": "code",
      "source": [],
      "metadata": {
        "id": "IpRC8QyGo5oK"
      },
      "execution_count": null,
      "outputs": []
    }
  ]
}